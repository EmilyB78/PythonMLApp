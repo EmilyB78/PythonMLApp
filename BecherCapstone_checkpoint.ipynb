{
  "cells": [
    {
      "cell_type": "markdown",
      "metadata": {
        "id": "view-in-github",
        "colab_type": "text"
      },
      "source": [
        "<a href=\"https://colab.research.google.com/github/EmilyB78/PythonMLApp/blob/main/BecherCapstone_checkpoint.ipynb\" target=\"_parent\"><img src=\"https://colab.research.google.com/assets/colab-badge.svg\" alt=\"Open In Colab\"/></a>"
      ]
    },
    {
      "cell_type": "code",
      "execution_count": null,
      "id": "249667e7",
      "metadata": {
        "id": "249667e7"
      },
      "outputs": [],
      "source": [
        "!pip install tensorflow pydot graphviz \n",
        "!pip install gradio"
      ]
    },
    {
      "cell_type": "code",
      "execution_count": null,
      "id": "3e74f74e",
      "metadata": {
        "id": "3e74f74e"
      },
      "outputs": [],
      "source": [
        "import pandas as pd\n",
        "import numpy as np\n",
        "import matplotlib.pyplot as plt\n",
        "from sklearn.model_selection import train_test_split\n",
        "from sklearn.preprocessing import StandardScaler\n",
        "import tensorflow as tf\n",
        "import gradio as gr\n"
      ]
    },
    {
      "cell_type": "code",
      "execution_count": null,
      "id": "291cd06b",
      "metadata": {
        "id": "291cd06b"
      },
      "outputs": [],
      "source": [
        "# data file\n",
        "heart_data = pd.read_csv('heart.csv')\n",
        "\n",
        "\n",
        "# cleaning of data by removal of variables recorded as strings. \n",
        "X = heart_data.drop(columns=['ChestPainType', 'Sex', 'HeartDisease', 'RestingECG', 'ExerciseAngina', 'ST_Slope', 'Oldpeak'])\n",
        "y = heart_data['HeartDisease']\n",
        "\n",
        "scaler = StandardScaler()\n",
        "\n",
        "\n",
        "# 60% of data used to train model, 20% used to validate, 20% used to test\n",
        "X_train, X_temp, y_train, y_temp = train_test_split(X, y, test_size=0.4, random_state=0)\n",
        "X_valid, X_test, y_valid, y_test = train_test_split(X_temp, y_temp, test_size=0.5, random_state=0)\n",
        "\n",
        "# Sequential (multilinear regression) machine learning \n",
        "model = tf.keras.Sequential([\n",
        "    tf.keras.layers.Dense(16, activation='relu'),\n",
        "    tf.keras.layers.Dense(16, activation='relu'),\n",
        "    tf.keras.layers.Dense(1, activation='sigmoid')\n",
        "])\n",
        "model.compile(optimizer=tf.keras.optimizers.Adam(learning_rate=0.001),\n",
        "             loss=tf.keras.losses.BinaryCrossentropy(),\n",
        "             metrics=['accuracy'])\n"
      ]
    },
    {
      "cell_type": "code",
      "source": [
        "from google.colab import drive\n",
        "drive.mount('/content/drive')"
      ],
      "metadata": {
        "id": "onXPpBnEGl3g"
      },
      "id": "onXPpBnEGl3g",
      "execution_count": null,
      "outputs": []
    },
    {
      "cell_type": "code",
      "execution_count": null,
      "id": "559c51fd",
      "metadata": {
        "id": "559c51fd"
      },
      "outputs": [],
      "source": [
        "# Analysis and visualization of participant median age\n",
        "plt.style.use('fivethirtyeight')\n",
        "\n",
        "heart_data = pd.read_csv('heart.csv')\n",
        "ages = heart_data['Age']\n",
        "\n",
        "bins = [30, 40, 50, 60, 70, 80]\n",
        "\n",
        "plt.hist(ages, bins=bins, edgecolor='black')\n",
        "\n",
        "median_age = 54\n",
        "color = '#fc4f30'\n",
        "\n",
        "plt.axvline(median_age, color=color, label='Median Age')\n",
        "\n",
        "plt.legend()\n",
        "\n",
        "plt.title('Age of Study Participants')\n",
        "plt.xlabel('Ages')\n",
        "plt.ylabel('Total Participants')\n",
        "\n",
        "plt.tight_layout()\n",
        "\n",
        "plt.show"
      ]
    },
    {
      "cell_type": "code",
      "execution_count": null,
      "id": "06131af8",
      "metadata": {
        "id": "06131af8"
      },
      "outputs": [],
      "source": [
        "# Analysis and visualization of median resting blood pressure.\n",
        "plt.style.use('fivethirtyeight')\n",
        "\n",
        "heart_data = pd.read_csv('heart.csv')\n",
        "Average_BP = heart_data['RestingBP']\n",
        "\n",
        "\n",
        "BP_bins = [80, 120, 160, 200]\n",
        "\n",
        "\n",
        "plt.hist(Average_BP, bins=BP_bins, color= 'black')\n",
        "\n",
        "median_SBP = 132\n",
        "color = '#fc4f30'\n",
        "\n",
        "plt.axvline(median_SBP, color=color, label='Median SPB')\n",
        "\n",
        "\n",
        "\n",
        "plt.legend()\n",
        "\n",
        "plt.title('Resting SBP of Study Participants')\n",
        "plt.xlabel('Systolic Blood Pressure')\n",
        "plt.ylabel('Total Participants')\n",
        "\n",
        "plt.tight_layout()\n",
        "\n",
        "plt.show"
      ]
    },
    {
      "cell_type": "code",
      "execution_count": null,
      "id": "4d789721",
      "metadata": {
        "id": "4d789721"
      },
      "outputs": [],
      "source": [
        "# Analysis and visualization of participant median serum cholesterol. \n",
        "plt.style.use('fivethirtyeight')\n",
        "\n",
        "heart_data = pd.read_csv('heart.csv')\n",
        "Average_chol = heart_data['Cholesterol']\n",
        "\n",
        "\n",
        "chol_bins = [100, 150, 200, 250, 300, 350, 400, 450, 500]\n",
        "\n",
        "\n",
        "plt.hist(Average_chol, bins=chol_bins, color= 'black')\n",
        "\n",
        "median_chol = 223\n",
        "color = '#fc4f30'\n",
        "\n",
        "plt.axvline(median_chol, color=color, label='Median Cholesterol')\n",
        "\n",
        "\n",
        "\n",
        "plt.legend()\n",
        "\n",
        "plt.title('Cholesterol of Study Participants')\n",
        "plt.xlabel('Cholesterol Level')\n",
        "plt.ylabel('Total Participants')\n",
        "\n",
        "plt.tight_layout()\n",
        "\n",
        "\n",
        "\n",
        "plt.show"
      ]
    },
    {
      "cell_type": "code",
      "execution_count": null,
      "id": "04bb0100",
      "metadata": {
        "id": "04bb0100"
      },
      "outputs": [],
      "source": [
        "#Model training with heart.csv data. \n",
        "model.fit(X_train, y_train, epochs=30, validation_data=(X_valid, y_valid))"
      ]
    },
    {
      "cell_type": "code",
      "execution_count": null,
      "id": "cd257997",
      "metadata": {
        "id": "cd257997"
      },
      "outputs": [],
      "source": [
        "#Predictive model outcome accuracy. Accuracy improves to 75% with multiple trainings.\n",
        "model.evaluate(X_test, y_test)"
      ]
    },
    {
      "cell_type": "code",
      "execution_count": null,
      "id": "cdd96f94",
      "metadata": {
        "id": "cdd96f94"
      },
      "outputs": [],
      "source": [
        "model.predict(X_test)"
      ]
    },
    {
      "cell_type": "code",
      "source": [
        "# Product health monitoring via log file. \n",
        "# import the logging module\n",
        "import logging\n",
        "\n",
        "logging.basicConfig(filename='app.log', filemode= 'w')\n",
        "logging.warning('This will get logged')"
      ],
      "metadata": {
        "id": "988GRd5uEjLY"
      },
      "id": "988GRd5uEjLY",
      "execution_count": null,
      "outputs": []
    },
    {
      "cell_type": "code",
      "execution_count": null,
      "id": "285d7e99",
      "metadata": {
        "id": "285d7e99"
      },
      "outputs": [],
      "source": [
        "\n",
        "# Python GUI created by using Gradio for entering patient variables. \n",
        "def greet(age,restingbp,cholesterol,glucose,maxhr):\n",
        "\n",
        "    if glucose == \"Diabetic\":\n",
        "      glucose = 1\n",
        "    else:\n",
        "      glucose = 0\n",
        "\n",
        "    inp = {\n",
        "      'Age': [age],\n",
        "      'RestingBP': [restingbp],\n",
        "      'Cholesterol': [cholesterol],\n",
        "      'FastingBS': [glucose],\n",
        "      'MaxHR': [maxhr],\n",
        "      \n",
        "    }\n",
        "    inp = pd.DataFrame(inp)\n",
        "    predicted = model.predict(inp)\n",
        "\n",
        "# Predictive model produces a float variable between 0.0 and 1.0. Diagnosis is assigned\n",
        "# based on whether the variable is >= 0.5. \n",
        "\n",
        "    if predicted >= 0.5:\n",
        "      return 'CHF'\n",
        "    else:\n",
        "      return 'NORMAL'\n",
        "\n",
        "demo = gr.Interface(fn=greet, inputs=[\"number\",\"number\",\"number\",gr.Radio([\"Diabetic\",\"Non-Diabetic\"]),\"number\"], outputs=\"text\")\n",
        "\n",
        "\n",
        "demo.launch()"
      ]
    },
    {
      "cell_type": "code",
      "execution_count": null,
      "id": "9a087086",
      "metadata": {
        "id": "9a087086"
      },
      "outputs": [],
      "source": [
        "test_loss, test_acc = model.evaluate(X_test, y_test)\n",
        "print(test_acc)"
      ]
    },
    {
      "cell_type": "code",
      "source": [],
      "metadata": {
        "id": "9Y1W14mvEFkR"
      },
      "id": "9Y1W14mvEFkR",
      "execution_count": null,
      "outputs": []
    },
    {
      "cell_type": "code",
      "execution_count": null,
      "id": "e562d4c9",
      "metadata": {
        "id": "e562d4c9"
      },
      "outputs": [],
      "source": []
    },
    {
      "cell_type": "code",
      "execution_count": null,
      "id": "0e740ca8",
      "metadata": {
        "id": "0e740ca8"
      },
      "outputs": [],
      "source": []
    }
  ],
  "metadata": {
    "kernelspec": {
      "display_name": "Python 3 (ipykernel)",
      "language": "python",
      "name": "python3"
    },
    "language_info": {
      "codemirror_mode": {
        "name": "ipython",
        "version": 3
      },
      "file_extension": ".py",
      "mimetype": "text/x-python",
      "name": "python",
      "nbconvert_exporter": "python",
      "pygments_lexer": "ipython3",
      "version": "3.9.13"
    },
    "colab": {
      "provenance": [],
      "include_colab_link": true
    }
  },
  "nbformat": 4,
  "nbformat_minor": 5
}